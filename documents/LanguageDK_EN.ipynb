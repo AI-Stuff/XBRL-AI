{
 "cells": [
  {
   "cell_type": "markdown",
   "metadata": {},
   "source": [
    "# Language detection: Textmine by usage off XBRL-AI\n",
    "\n",
    "This is a very small inspirational implementation of textmining by usage of XBRL-AI at https://github.com/Niels-Peter/XBRL-AI. The focus is on this page is to show a simple Case using the library. Hopefully it can work as a quick introduction to the library.\n",
    "\n",
    "The case builds a simple model to detect whether a text from auditors statement is danish or english.\n",
    "\n",
    "It is done in this steps:\n",
    "* load data from the Danish cloud holding annual reports in XBRL\n",
    "* convert them into python dictionaries\n",
    "* read text from the auditors statements in y and X vectors\n",
    "* train a ML-model to detect whether a text is in danish or english\n",
    "* evaluation of the model\n",
    "* use the model\n"
   ]
  },
  {
   "cell_type": "markdown",
   "metadata": {},
   "source": [
    "But before we can get started we need to import the library. In this case we are working on danish data from www.cvr.dk. Therefore we need both:\n",
    "\n",
    "* xbrl_ai and\n",
    "* xbrl_local.xbrl_ai_dkxbrl_local.xbrl_ai_dk\n"
   ]
  },
  {
   "cell_type": "code",
   "execution_count": 35,
   "metadata": {
    "collapsed": true
   },
   "outputs": [],
   "source": [
    "from xbrl_ai import xbrlinstance_to_dict\n",
    "from xbrl_local.xbrl_ai_dk import xbrldict_to_xbrl_dk_64, scanscroll_fetchlist_dk"
   ]
  },
  {
   "cell_type": "markdown",
   "metadata": {},
   "source": [
    "\n",
    "Next thing to do is to get a list of annual reports. The <font color='red'>scanscroll_fetchlist_dk</font> goes straight into the danish XBRL-cloud and load a list of reports.\n",
    "\n",
    "To keep it simpel we just loads the annual reports published on the 28. feb. 2018.\n",
    "\n"
   ]
  },
  {
   "cell_type": "code",
   "execution_count": 36,
   "metadata": {
    "collapsed": true,
    "scrolled": true
   },
   "outputs": [],
   "source": [
    "# Fetch a list of Annual Reports fra the Cloud\n",
    "input_data = scanscroll_fetchlist_dk('2018-02-28', format = 'publishTime')"
   ]
  },
  {
   "cell_type": "markdown",
   "metadata": {},
   "source": [
    "Before loading the data we define the 2 vectors for our training data.\n",
    "\n",
    "* y is holding the examples that we want to train the machine to learn. Here it is 'da' and 'en' - the language-tag.\n",
    "* X hold the text of the elements in the auditors statements\n",
    "\n",
    "So our goal is to learn the machine to \"predict\" y (language tag) from the text in X, by presenting it with examples from annual reports that are already language-tagged."
   ]
  },
  {
   "cell_type": "code",
   "execution_count": 37,
   "metadata": {
    "collapsed": true
   },
   "outputs": [],
   "source": [
    "# Prepare vector y and X for trainingsdata\n",
    "y=[]\n",
    "X=[]"
   ]
  },
  {
   "cell_type": "markdown",
   "metadata": {},
   "source": [
    "### Here comes the tricky part!\n",
    "\n",
    "Next we have to get the data for our training. To do this we'll run though the list that we got from <font color='red'>scanscroll_fetchlist_dk</font>. For each instance in the list we <font color='red'>requests</font> it, and convert it first by use off <font color='red'>xbrlinstance_to_dict</font> and then by use of <font color='red'>xbrldict_to_xbrl_dk_64</font>.\n",
    "\n",
    "Having done that, we can go though each line of each xbrl document, and extract text that have a language-tag and put it into X, and the language tag into y.\n",
    "\n",
    "Warning:<font color='red'>\n",
    "THIS STEP takes some time!</font>\n",
    "\n",
    "A good advice would be to pickle your data after this step!\n"
   ]
  },
  {
   "cell_type": "code",
   "execution_count": 38,
   "metadata": {},
   "outputs": [],
   "source": [
    "from bs4 import BeautifulSoup\n",
    "import numpy as np\n",
    "import requests\n",
    "\n",
    "#Go though the list of annual reports on by one \n",
    "for instance in input_data:\n",
    "    targeturl = instance['dokumentUrl']\n",
    "    \n",
    "    # make sure the the URL is not null\n",
    "    # and convert all data til dictionary in xbrl_as_dk_64 format\n",
    "    if type(targeturl).__name__ != 'NoneType':\n",
    "        xbrldoc_as_dict = xbrlinstance_to_dict(requests.get(targeturl).content)\n",
    "        xbrl_as_dk_64 = xbrldict_to_xbrl_dk_64(xbrldoc_as_dict)\n",
    "        \n",
    "        #Go though each annual reports line by line \n",
    "        for element in xbrl_as_dk_64:\n",
    "            \n",
    "            # Use only language tag and audit (=arr)\n",
    "            try:\n",
    "                if element[5][0:5] == 'lang:':\n",
    "                    if element[0][0:4] == 'arr:':\n",
    "                        \n",
    "                        #clear out HTML and add data to vector y and X\n",
    "                        tekst = BeautifulSoup((xbrl_as_dk_64[element])[0], 'lxml').get_text(' ')\n",
    "                        y = np.append(y, [element[5][5:].lower()], axis = 0)\n",
    "                        X = np.append(X, [tekst[0:]], axis = 0)\n",
    "            except:\n",
    "                pass\n"
   ]
  },
  {
   "cell_type": "markdown",
   "metadata": {},
   "source": [
    "Before we can move on, we have to do a small cleaning of the danish tags."
   ]
  },
  {
   "cell_type": "code",
   "execution_count": 39,
   "metadata": {
    "collapsed": true
   },
   "outputs": [],
   "source": [
    "# harmonise dk/da tag!\n",
    "y[y=='dk'] = 'da'"
   ]
  },
  {
   "cell_type": "markdown",
   "metadata": {},
   "source": [
    "\n",
    "### Lets do some simple machine learning\n",
    "\n",
    "First thing to do is to split the traindata in two. One part for training, and one for testing.\n"
   ]
  },
  {
   "cell_type": "code",
   "execution_count": 40,
   "metadata": {},
   "outputs": [],
   "source": [
    "from sklearn.model_selection import train_test_split\n",
    "X_tr, X_test, y_tr, y_test = train_test_split(X, y, test_size=0.33)"
   ]
  },
  {
   "cell_type": "markdown",
   "metadata": {},
   "source": [
    "\n",
    "Now we can train a very simple text-pipeline. Here we use the Random Forest Classifier. Nothing fancy, but good enough for our simple case.\n"
   ]
  },
  {
   "cell_type": "code",
   "execution_count": 41,
   "metadata": {
    "collapsed": true
   },
   "outputs": [],
   "source": [
    "from sklearn.pipeline import Pipeline\n",
    "from sklearn.feature_extraction.text import CountVectorizer, TfidfTransformer\n",
    "from sklearn.ensemble import RandomForestClassifier\n",
    "\n",
    "model = Pipeline([\n",
    "    ('vect', CountVectorizer(ngram_range = (1, 1))),\n",
    "    ('tfidf', TfidfTransformer(use_idf = True)),\n",
    "    ('clf_RF', RandomForestClassifier()),\n",
    "])\n",
    "\n",
    "y_pred = model.fit(X_tr, y_tr).predict(X_test)"
   ]
  },
  {
   "cell_type": "markdown",
   "metadata": {},
   "source": [
    "\n",
    "Lets see confusion matrix and the reports:"
   ]
  },
  {
   "cell_type": "code",
   "execution_count": 43,
   "metadata": {},
   "outputs": [
    {
     "name": "stdout",
     "output_type": "stream",
     "text": [
      "[[745   0]\n",
      " [  3 106]]\n",
      "             precision    recall  f1-score   support\n",
      "\n",
      "         da       1.00      1.00      1.00       745\n",
      "         en       1.00      0.97      0.99       109\n",
      "\n",
      "avg / total       1.00      1.00      1.00       854\n",
      "\n"
     ]
    }
   ],
   "source": [
    "from sklearn.metrics import classification_report, confusion_matrix\n",
    "print(confusion_matrix(y_test,y_pred))\n",
    "print(classification_report(y_test,y_pred))"
   ]
  },
  {
   "cell_type": "markdown",
   "metadata": {},
   "source": [
    "Pretty nice!\n",
    "\n"
   ]
  },
  {
   "cell_type": "markdown",
   "metadata": {},
   "source": [
    "So lets try it out on a danish and a english text:"
   ]
  },
  {
   "cell_type": "code",
   "execution_count": 44,
   "metadata": {
    "scrolled": false
   },
   "outputs": [
    {
     "name": "stdout",
     "output_type": "stream",
     "text": [
      "['da']\n",
      "['en']\n"
     ]
    }
   ],
   "source": [
    "print(model.predict(['Den af os udarbejdede årsrapport er aflagt i overensstemmelse med dansk regnskabslovgivning.']))\n",
    "print(model.predict([\"Our opinion on the annual accounts does not cover the management’s review\"]))\n"
   ]
  },
  {
   "cell_type": "markdown",
   "metadata": {},
   "source": []
  }
 ],
 "metadata": {
  "kernelspec": {
   "display_name": "Python [conda root]",
   "language": "python",
   "name": "conda-root-py"
  },
  "language_info": {
   "codemirror_mode": {
    "name": "ipython",
    "version": 3
   },
   "file_extension": ".py",
   "mimetype": "text/x-python",
   "name": "python",
   "nbconvert_exporter": "python",
   "pygments_lexer": "ipython3",
   "version": "3.5.3"
  }
 },
 "nbformat": 4,
 "nbformat_minor": 2
}
